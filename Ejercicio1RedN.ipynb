{
  "nbformat": 4,
  "nbformat_minor": 0,
  "metadata": {
    "colab": {
      "provenance": [],
      "gpuType": "V28",
      "authorship_tag": "ABX9TyNo4TeSUAOOVErWGHtb7Z+F",
      "include_colab_link": true
    },
    "kernelspec": {
      "name": "python3",
      "display_name": "Python 3"
    },
    "language_info": {
      "name": "python"
    },
    "accelerator": "TPU"
  },
  "cells": [
    {
      "cell_type": "markdown",
      "metadata": {
        "id": "view-in-github",
        "colab_type": "text"
      },
      "source": [
        "<a href=\"https://colab.research.google.com/github/ingrid1017/Ejercicio1RedN/blob/main/Ejercicio1RedN.ipynb\" target=\"_parent\"><img src=\"https://colab.research.google.com/assets/colab-badge.svg\" alt=\"Open In Colab\"/></a>"
      ]
    },
    {
      "cell_type": "markdown",
      "source": [
        "#Paso 1\n"
      ],
      "metadata": {
        "id": "hLM3mzi2FwM_"
      }
    },
    {
      "cell_type": "code",
      "execution_count": 1,
      "metadata": {
        "id": "_LWJ3wtHCzJx"
      },
      "outputs": [],
      "source": [
        "import tensorflow as tf"
      ]
    },
    {
      "cell_type": "markdown",
      "source": [
        "#Paso 2"
      ],
      "metadata": {
        "id": "A_QVJbBdFzZC"
      }
    },
    {
      "source": [
        "model = tf.keras.Sequential([\n",
        "  tf.keras.layers.Dense(10, activation='softmax', input_shape=(784,))\n",
        "])"
      ],
      "cell_type": "code",
      "metadata": {
        "id": "Ztl5NPRoDT7i"
      },
      "execution_count": 2,
      "outputs": []
    },
    {
      "cell_type": "markdown",
      "source": [
        "#Paso 3"
      ],
      "metadata": {
        "id": "GLVf4kB1F1Lg"
      }
    },
    {
      "source": [
        "model.compile(optimizer='adam',\n",
        "              loss='sparse_categorical_crossentropy',\n",
        "              metrics=['accuracy'])"
      ],
      "cell_type": "code",
      "metadata": {
        "id": "6I0oMEJLDZU3"
      },
      "execution_count": 3,
      "outputs": []
    },
    {
      "cell_type": "markdown",
      "source": [
        "#Paso 4"
      ],
      "metadata": {
        "id": "EBh1mHNRF3y7"
      }
    },
    {
      "source": [
        "(X_train, y_train), (X_test, y_test) = tf.keras.datasets.mnist.load_data()\n",
        "X_train = X_train.reshape(-1, 784) / 255.0\n",
        "X_test = X_test.reshape(-1, 784) / 255.0\n"
      ],
      "cell_type": "code",
      "metadata": {
        "id": "hMsVQ-TKDlpw"
      },
      "execution_count": 5,
      "outputs": []
    },
    {
      "cell_type": "markdown",
      "source": [
        "#Paso 5"
      ],
      "metadata": {
        "id": "2x3Kgim3F554"
      }
    },
    {
      "source": [
        "model.fit(X_train, y_train, epochs=10, validation_data=(X_test, y_test))"
      ],
      "cell_type": "code",
      "metadata": {
        "colab": {
          "base_uri": "https://localhost:8080/"
        },
        "id": "YduiaLYkDsA5",
        "outputId": "0a399ce4-4ce9-4046-a5ee-965f1b8fb82f"
      },
      "execution_count": 6,
      "outputs": [
        {
          "output_type": "stream",
          "name": "stdout",
          "text": [
            "Epoch 1/10\n",
            "1875/1875 [==============================] - 3s 2ms/step - loss: 0.4660 - accuracy: 0.8780 - val_loss: 0.3065 - val_accuracy: 0.9145\n",
            "Epoch 2/10\n",
            "1875/1875 [==============================] - 3s 2ms/step - loss: 0.3038 - accuracy: 0.9147 - val_loss: 0.2838 - val_accuracy: 0.9196\n",
            "Epoch 3/10\n",
            "1875/1875 [==============================] - 3s 2ms/step - loss: 0.2837 - accuracy: 0.9203 - val_loss: 0.2777 - val_accuracy: 0.9233\n",
            "Epoch 4/10\n",
            "1875/1875 [==============================] - 3s 1ms/step - loss: 0.2731 - accuracy: 0.9240 - val_loss: 0.2738 - val_accuracy: 0.9225\n",
            "Epoch 5/10\n",
            "1875/1875 [==============================] - 3s 2ms/step - loss: 0.2665 - accuracy: 0.9257 - val_loss: 0.2656 - val_accuracy: 0.9251\n",
            "Epoch 6/10\n",
            "1875/1875 [==============================] - 3s 2ms/step - loss: 0.2621 - accuracy: 0.9272 - val_loss: 0.2698 - val_accuracy: 0.9237\n",
            "Epoch 7/10\n",
            "1875/1875 [==============================] - 3s 2ms/step - loss: 0.2579 - accuracy: 0.9288 - val_loss: 0.2674 - val_accuracy: 0.9257\n",
            "Epoch 8/10\n",
            "1875/1875 [==============================] - 3s 2ms/step - loss: 0.2554 - accuracy: 0.9289 - val_loss: 0.2667 - val_accuracy: 0.9274\n",
            "Epoch 9/10\n",
            "1875/1875 [==============================] - 3s 1ms/step - loss: 0.2528 - accuracy: 0.9305 - val_loss: 0.2635 - val_accuracy: 0.9256\n",
            "Epoch 10/10\n",
            "1875/1875 [==============================] - 3s 1ms/step - loss: 0.2509 - accuracy: 0.9304 - val_loss: 0.2660 - val_accuracy: 0.9262\n"
          ]
        },
        {
          "output_type": "execute_result",
          "data": {
            "text/plain": [
              "<keras.src.callbacks.History at 0x7fb7ac289ea0>"
            ]
          },
          "metadata": {},
          "execution_count": 6
        }
      ]
    },
    {
      "cell_type": "markdown",
      "source": [
        "#Paso 6"
      ],
      "metadata": {
        "id": "y3-DAp4uF7v4"
      }
    },
    {
      "source": [
        "test_loss, test_acc = model.evaluate(X_test,  y_test, verbose=2)\n",
        "print('\\nTest accuracy:', test_acc)"
      ],
      "cell_type": "code",
      "metadata": {
        "colab": {
          "base_uri": "https://localhost:8080/"
        },
        "id": "eYM0NaeODxe7",
        "outputId": "07dc9abe-0058-44c7-ec25-130e0c3730bf"
      },
      "execution_count": 7,
      "outputs": [
        {
          "output_type": "stream",
          "name": "stdout",
          "text": [
            "313/313 - 0s - loss: 0.2660 - accuracy: 0.9262 - 305ms/epoch - 975us/step\n",
            "\n",
            "Test accuracy: 0.9261999726295471\n"
          ]
        }
      ]
    }
  ]
}